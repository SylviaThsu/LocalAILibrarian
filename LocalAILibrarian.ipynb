{
 "cells": [
  {
   "cell_type": "code",
   "execution_count": 1,
   "metadata": {},
   "outputs": [
    {
     "name": "stdout",
     "output_type": "stream",
     "text": [
      "/Users/sylviathsu/Documents/COS243/LocalAILibrarian\n"
     ]
    }
   ],
   "source": [
    "cd \"/Users/sylviathsu/Documents/COS243/LocalAILibrarian\""
   ]
  },
  {
   "cell_type": "code",
   "execution_count": 2,
   "metadata": {},
   "outputs": [],
   "source": [
    "!pip install -q \\\n",
    "  llama-index \\\n",
    "  EbookLib \\\n",
    "  html2text \\\n",
    "  gradio \\\n",
    "  llama-index-embeddings-huggingface \\\n",
    "  llama-index-llms-ollama"
   ]
  },
  {
   "cell_type": "code",
   "execution_count": 3,
   "metadata": {},
   "outputs": [
    {
     "name": "stderr",
     "output_type": "stream",
     "text": [
      "/opt/anaconda3/envs/gradio/lib/python3.11/site-packages/tqdm/auto.py:21: TqdmWarning: IProgress not found. Please update jupyter and ipywidgets. See https://ipywidgets.readthedocs.io/en/stable/user_install.html\n",
      "  from .autonotebook import tqdm as notebook_tqdm\n"
     ]
    }
   ],
   "source": [
    "import os\n",
    "import logging\n",
    "import gradio as gr\n",
    "from llama_index.core import (\n",
    "    SimpleDirectoryReader, \n",
    "    VectorStoreIndex, \n",
    "    StorageContext, \n",
    "    load_index_from_storage,\n",
    ")\n",
    "from llama_index.embeddings.huggingface import HuggingFaceEmbedding\n",
    "from llama_index.llms.ollama import Ollama\n",
    "from llama_index.core.node_parser import SentenceSplitter\n",
    "from pathlib import Path"
   ]
  },
  {
   "cell_type": "code",
   "execution_count": 4,
   "metadata": {},
   "outputs": [
    {
     "name": "stderr",
     "output_type": "stream",
     "text": [
      "INFO:__main__:Processing documents...\n",
      "INFO:__main__:Generating embeddings and saving index...\n",
      "INFO:sentence_transformers.SentenceTransformer:Load pretrained SentenceTransformer: BAAI/bge-small-en-v1.5\n",
      "INFO:sentence_transformers.SentenceTransformer:2 prompts are loaded, with the keys: ['query', 'text']\n",
      "ERROR:__main__:An error occurred: 'TextNode' object has no attribute 'get_doc_id'\n"
     ]
    }
   ],
   "source": [
    "def setup_logging():\n",
    "    logging.basicConfig(level=logging.INFO)\n",
    "    logger = logging.getLogger(__name__)\n",
    "    return logger\n",
    "\n",
    "logger = setup_logging()\n",
    "\n",
    "# Step 2: Document Processing\n",
    "def process_documents(doc_folder):\n",
    "    reader = SimpleDirectoryReader(input_dir=doc_folder)\n",
    "    documents = reader.load_data()\n",
    "    splitter = SentenceSplitter(chunk_size=1024, chunk_overlap=200)\n",
    "    nodes = splitter.get_nodes_from_documents(documents)\n",
    "    return nodes\n",
    "\n",
    "# Step 3: Embedding Generation\n",
    "def generate_embeddings(nodes):\n",
    "    embed_model = HuggingFaceEmbedding(model_name=\"BAAI/bge-small-en-v1.5\")\n",
    "    vector_index = VectorStoreIndex.from_documents(nodes, embed_model=embed_model)\n",
    "    storage_context = vector_index.storage_context\n",
    "    storage_context.persist(persist_dir=\"storage\")\n",
    "    return vector_index\n",
    "\n",
    "# Step 4: Query Engine Configuration\n",
    "def configure_query_engine():\n",
    "    llm = Ollama(model=\"phi3.5:3.8b-mini-instruct-q4_K_M\")\n",
    "    storage_context = StorageContext.from_defaults(persist_dir=\"storage\")\n",
    "    index = load_index_from_storage(storage_context, llm=llm)\n",
    "    query_engine = index.as_query_engine(\n",
    "        similarity_top_k=5,\n",
    "        timeout=30  # Increase timeout to handle slow processing\n",
    "    )\n",
    "    return query_engine\n",
    "\n",
    "# Step 5: Gradio Interface\n",
    "def create_gradio_interface(query_engine):\n",
    "    def query_docs(query, history):\n",
    "        response = query_engine.query(query)\n",
    "        sources = \"\\n\".join([node.node.metadata.get('file_name', 'Unknown Source') for node in response.source_nodes])\n",
    "        history.append((query, response.response + f\"\\nSources:\\n{sources}\"))\n",
    "        return \"\\n\".join([f\"Q: {q}\\nA: {a}\" for q, a in history]), history\n",
    "\n",
    "    with gr.Blocks() as app:\n",
    "        history = gr.State([])\n",
    "        with gr.Row():\n",
    "            gr.Markdown(\"## Local AI Librarian\")\n",
    "        with gr.Row():\n",
    "            with gr.Column():\n",
    "                query = gr.Textbox(label=\"Enter your query\")\n",
    "                submit_btn = gr.Button(\"Search\")\n",
    "            with gr.Column():\n",
    "                output = gr.Textbox(label=\"Results\", lines=20)\n",
    "        submit_btn.click(query_docs, inputs=[query, history], outputs=[output, history])\n",
    "    app.launch()\n",
    "\n",
    "# Main Execution\n",
    "if __name__ == \"__main__\":\n",
    "    try:\n",
    "        logger.info(\"Processing documents...\")\n",
    "        doc_folder = \"./library\"\n",
    "        nodes = process_documents(doc_folder)\n",
    "\n",
    "        logger.info(\"Generating embeddings and saving index...\")\n",
    "        vector_index = generate_embeddings(nodes)\n",
    "\n",
    "        logger.info(\"Configuring query engine...\")\n",
    "        query_engine = configure_query_engine()\n",
    "\n",
    "        logger.info(\"Launching Gradio interface...\")\n",
    "        create_gradio_interface(query_engine)\n",
    "\n",
    "    except Exception as e:\n",
    "        logger.error(f\"An error occurred: {e}\")"
   ]
  }
 ],
 "metadata": {
  "kernelspec": {
   "display_name": "gradio",
   "language": "python",
   "name": "python3"
  },
  "language_info": {
   "codemirror_mode": {
    "name": "ipython",
    "version": 3
   },
   "file_extension": ".py",
   "mimetype": "text/x-python",
   "name": "python",
   "nbconvert_exporter": "python",
   "pygments_lexer": "ipython3",
   "version": "3.11.10"
  }
 },
 "nbformat": 4,
 "nbformat_minor": 2
}
